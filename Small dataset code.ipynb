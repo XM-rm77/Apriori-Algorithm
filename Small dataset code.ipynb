{
  "cells": [
    {
      "cell_type": "markdown",
      "source": [
        ""
      ],
      "metadata": {
        "id": "s3iz_XpWAowC"
      },
      "id": "s3iz_XpWAowC"
    },
    {
      "cell_type": "markdown",
      "source": [
        "###Uploading files"
      ],
      "metadata": {
        "id": "UiDK1UGwAsBx"
      },
      "id": "UiDK1UGwAsBx"
    },
    {
      "cell_type": "code",
      "source": [
        "from google.colab import files\n",
        "small_data = files.upload()\n",
        "items_txt = files.upload()"
      ],
      "metadata": {
        "colab": {
          "resources": {
            "http://localhost:8080/nbextensions/google.colab/files.js": {
              "data": "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",
              "ok": true,
              "headers": [
                [
                  "content-type",
                  "application/javascript"
                ]
              ],
              "status": 200,
              "status_text": ""
            }
          },
          "base_uri": "https://localhost:8080/",
          "height": 130
        },
        "id": "j79IgW8xzxHy",
        "outputId": "40ad4ae0-43dd-4f31-9047-7800dbae373a"
      },
      "id": "j79IgW8xzxHy",
      "execution_count": 40,
      "outputs": [
        {
          "output_type": "display_data",
          "data": {
            "text/plain": [
              "<IPython.core.display.HTML object>"
            ],
            "text/html": [
              "\n",
              "     <input type=\"file\" id=\"files-afe589ce-c954-4f68-8e6e-24ecc19c2c24\" name=\"files[]\" multiple disabled\n",
              "        style=\"border:none\" />\n",
              "     <output id=\"result-afe589ce-c954-4f68-8e6e-24ecc19c2c24\">\n",
              "      Upload widget is only available when the cell has been executed in the\n",
              "      current browser session. Please rerun this cell to enable.\n",
              "      </output>\n",
              "      <script src=\"/nbextensions/google.colab/files.js\"></script> "
            ]
          },
          "metadata": {}
        },
        {
          "output_type": "stream",
          "name": "stdout",
          "text": [
            "Saving GroceryStore.csv to GroceryStore (1).csv\n"
          ]
        },
        {
          "output_type": "display_data",
          "data": {
            "text/plain": [
              "<IPython.core.display.HTML object>"
            ],
            "text/html": [
              "\n",
              "     <input type=\"file\" id=\"files-0847267a-3c66-4159-b720-98bcb96d2e26\" name=\"files[]\" multiple disabled\n",
              "        style=\"border:none\" />\n",
              "     <output id=\"result-0847267a-3c66-4159-b720-98bcb96d2e26\">\n",
              "      Upload widget is only available when the cell has been executed in the\n",
              "      current browser session. Please rerun this cell to enable.\n",
              "      </output>\n",
              "      <script src=\"/nbextensions/google.colab/files.js\"></script> "
            ]
          },
          "metadata": {}
        },
        {
          "output_type": "stream",
          "name": "stdout",
          "text": [
            "Saving Items.txt to Items (1).txt\n"
          ]
        }
      ]
    },
    {
      "cell_type": "markdown",
      "source": [
        "##Reading datasets"
      ],
      "metadata": {
        "id": "O32fyUEt12mJ"
      },
      "id": "O32fyUEt12mJ"
    },
    {
      "cell_type": "code",
      "source": [
        "import pandas as pd\n",
        "import io\n",
        "small_dataset = pd.read_csv(io.BytesIO(small_data['GroceryStore.csv']),header=None)\n",
        "unique_items = pd.read_csv(io.BytesIO(items_txt['Items.txt']),header = None)\n",
        "transactions = []\n",
        "for i in range(len(small_dataset[0])):\n",
        "  transactions.append(small_dataset[0][i].split(','))\n",
        "unique_items_list = []\n",
        "for i in range(12):\n",
        "  unique_items_list.append(unique_items[i][0].strip())\n",
        "transactions,unique_items_list #printing transactions and unique items in simple way"
      ],
      "metadata": {
        "colab": {
          "base_uri": "https://localhost:8080/"
        },
        "id": "eL-W3VyIJXRQ",
        "outputId": "d50918b5-4802-437d-868e-511ef915f99d"
      },
      "id": "eL-W3VyIJXRQ",
      "execution_count": 41,
      "outputs": [
        {
          "output_type": "execute_result",
          "data": {
            "text/plain": [
              "([['MILK', 'BREAD', 'BISCUIT'],\n",
              "  ['BREAD', 'MILK', 'BISCUIT', 'CORNFLAKES'],\n",
              "  ['BREAD', 'TEA', 'BOURNVITA'],\n",
              "  ['JAM', 'MAGGI', 'BREAD', 'MILK'],\n",
              "  ['MAGGI', 'TEA', 'BISCUIT'],\n",
              "  ['BREAD', 'TEA', 'BOURNVITA'],\n",
              "  ['MAGGI', 'TEA', 'CORNFLAKES'],\n",
              "  ['MAGGI', 'BREAD', 'TEA', 'BISCUIT'],\n",
              "  ['JAM', 'MAGGI', 'BREAD', 'TEA'],\n",
              "  ['BREAD', 'MILK'],\n",
              "  ['COFFEE', 'COCK', 'BISCUIT', 'CORNFLAKES'],\n",
              "  ['COFFEE', 'COCK', 'BISCUIT', 'CORNFLAKES'],\n",
              "  ['COFFEE', 'SUGAR', 'BOURNVITA'],\n",
              "  ['BREAD', 'COFFEE', 'COCK'],\n",
              "  ['BREAD', 'SUGAR', 'BISCUIT'],\n",
              "  ['COFFEE', 'SUGAR', 'CORNFLAKES'],\n",
              "  ['BREAD', 'SUGAR', 'BOURNVITA'],\n",
              "  ['BREAD', 'COFFEE', 'SUGAR'],\n",
              "  ['BREAD', 'COFFEE', 'SUGAR'],\n",
              "  ['TEA', 'MILK', 'COFFEE', 'CORNFLAKES']],\n",
              " ['JAM',\n",
              "  'MAGGI',\n",
              "  'SUGAR',\n",
              "  'COFFEE',\n",
              "  'CHEESE',\n",
              "  'TEA',\n",
              "  'BOURNVITA',\n",
              "  'CORNFLAKES',\n",
              "  'BREAD',\n",
              "  'BISCUIT',\n",
              "  'MILK',\n",
              "  'COCK'])"
            ]
          },
          "metadata": {},
          "execution_count": 41
        }
      ]
    },
    {
      "cell_type": "markdown",
      "source": [
        "##Frequent itemsets and Apriori"
      ],
      "metadata": {
        "id": "aVjlIckcGgh5"
      },
      "id": "aVjlIckcGgh5"
    },
    {
      "cell_type": "code",
      "source": [
        "import itertools\n",
        "from itertools import combinations, chain\n",
        "from collections import defaultdict\n",
        "\n",
        "numberOftransactions = len(transactions)\n",
        "#Finding number of occurence\n",
        "def occured_number(itemset, transactions):\n",
        "  k = 0\n",
        "  for i in range(numberOftransactions):\n",
        "    if set(itemset).issubset(set(transactions[i])):\n",
        "      k += 1\n",
        "  return k\n",
        "\n",
        "#Finding itemsets which occured at least (min support) times\n",
        "def frequent_items(itemset,transactions, min_supp, pr_rejected):\n",
        "  numberOftransactions = len(transactions)\n",
        "  fr_itemsets = []\n",
        "  sup_count = []\n",
        "  new_rejected = []\n",
        "  key = len(pr_rejected.keys())\n",
        "  \n",
        "  for i in range(len(itemset)):\n",
        "    rej_before = False\n",
        "    if key > 0:\n",
        "      for j in pr_rejected[key]:\n",
        "        if set(j).issubset(set(itemset[i])):\n",
        "          rej_before = True\n",
        "          break\n",
        "    if not rej_before:\n",
        "      count = occured_number(itemset[i],transactions)\n",
        "      if count / numberOftransactions >= min_supp:\n",
        "        fr_itemsets.append(itemset[i])\n",
        "        sup_count.append(count)\n",
        "      else:\n",
        "        new_rejected.append(itemset[i])\n",
        "  return fr_itemsets, sup_count, new_rejected\n",
        "\n",
        " \n",
        "sizeOfset = 1\n",
        "itemsets = {}\n",
        "itemsets.update({sizeOfset:[[i] for i in unique_items_list]})\n",
        "\n",
        "#initialization of frequent itemsets\n",
        "fr_itemsets = {}\n",
        "sup_count = {}\n",
        "rejected = {sizeOfset:[]}\n",
        "min_supp = 2 / 20\n",
        "min_conf = 0.6\n",
        "frequent_itemsets,supp,new_rejected = frequent_items(itemsets[sizeOfset],transactions,min_supp,rejected)\n",
        "rejected.update({sizeOfset : new_rejected})\n",
        "fr_itemsets.update({sizeOfset : frequent_itemsets})\n",
        "sup_count.update({sizeOfset : supp})\n",
        "\n",
        "\n",
        "fr_itemsets[1],sup_count[1]\n",
        "\n"
      ],
      "metadata": {
        "colab": {
          "base_uri": "https://localhost:8080/"
        },
        "id": "ah_5UCGWGoYs",
        "outputId": "32a723d2-8252-469e-bcb2-e5e1527c07d1"
      },
      "id": "ah_5UCGWGoYs",
      "execution_count": 48,
      "outputs": [
        {
          "output_type": "execute_result",
          "data": {
            "text/plain": [
              "([['JAM'],\n",
              "  ['MAGGI'],\n",
              "  ['SUGAR'],\n",
              "  ['COFFEE'],\n",
              "  ['TEA'],\n",
              "  ['BOURNVITA'],\n",
              "  ['CORNFLAKES'],\n",
              "  ['BREAD'],\n",
              "  ['BISCUIT'],\n",
              "  ['MILK'],\n",
              "  ['COCK']],\n",
              " [2, 5, 6, 8, 7, 4, 6, 13, 7, 5, 3])"
            ]
          },
          "metadata": {},
          "execution_count": 48
        }
      ]
    },
    {
      "cell_type": "code",
      "source": [
        "##Next step is grouping by bigger size starting with two (K-ITEMSETS)"
      ],
      "metadata": {
        "id": "zWO0cGzcgOIy"
      },
      "id": "zWO0cGzcgOIy",
      "execution_count": null,
      "outputs": []
    },
    {
      "cell_type": "code",
      "source": [
        "#Functions for candidate joining\n",
        "def two_joint_itemset(set_one, set_two, unique_items_list):\n",
        "  set_one.sort(key = lambda x: unique_items_list.index(x))\n",
        "  set_two.sort(key = lambda x: unique_items_list.index(x))\n",
        "  for i in range(len(set_one)-1):\n",
        "    if set_one[i] != set_two[i]:\n",
        "      return []\n",
        "  if (unique_items_list.index(set_one[-1]) < unique_items_list.index(set_two[-1])):\n",
        "    return set_one + [set_two[-1]]\n",
        "  return []\n",
        "\n",
        "\n",
        "def joint_itemset(setOfitemsets,unique_items_list):\n",
        "  itemsets = []\n",
        "  for i in range(len(setOfitemsets)):\n",
        "    for j in range(i+1, len(setOfitemsets)):\n",
        "      outOfit = two_joint_itemset(setOfitemsets[i], setOfitemsets[j],unique_items_list)\n",
        "      if len(outOfit) > 0:\n",
        "        itemsets.append(outOfit)\n",
        "  return itemsets\n",
        "k_itemset = sizeOfset + 1\n",
        "key_link = 0 \n",
        "#printing candidates and frequent items and their occurence\n",
        "while key_link == 0:\n",
        "  itemsets.update({k_itemset : joint_itemset(fr_itemsets[k_itemset-1],unique_items_list)})\n",
        "  print(\"Table itemsets{}: \\n\".format(k_itemset))\n",
        "  print(itemsets[k_itemset],[occured_number(itemset,transactions) for itemset in itemsets[k_itemset]],\"\\n\")\n",
        "  frequent_itemsets,supp,new_rejected=frequent_items(itemsets[k_itemset],transactions,min_supp,rejected)\n",
        "  fr_itemsets.update({k_itemset : frequent_itemsets})\n",
        "  rejected.update({k_itemset : new_rejected})\n",
        "  sup_count.update({k_itemset : supp})\n",
        "  if len(fr_itemsets[k_itemset]) == 0:\n",
        "    key_link = 1\n",
        "  else:\n",
        "    print(\"Table itemsets{}: \\n\".format(k_itemset))\n",
        "    print(fr_itemsets[k_itemset],sup_count[k_itemset],\"\\n\")\n",
        "  k_itemset += 1\n"
      ],
      "metadata": {
        "colab": {
          "base_uri": "https://localhost:8080/"
        },
        "id": "nJ-kLiWBgedy",
        "outputId": "5b3191d4-834c-4248-c056-0b035d0555c8"
      },
      "id": "nJ-kLiWBgedy",
      "execution_count": 50,
      "outputs": [
        {
          "output_type": "stream",
          "name": "stdout",
          "text": [
            "Table itemsets2: \n",
            "\n",
            "[['JAM', 'MAGGI'], ['JAM', 'SUGAR'], ['JAM', 'COFFEE'], ['JAM', 'TEA'], ['JAM', 'BOURNVITA'], ['JAM', 'CORNFLAKES'], ['JAM', 'BREAD'], ['JAM', 'BISCUIT'], ['JAM', 'MILK'], ['JAM', 'COCK'], ['MAGGI', 'SUGAR'], ['MAGGI', 'COFFEE'], ['MAGGI', 'TEA'], ['MAGGI', 'BOURNVITA'], ['MAGGI', 'CORNFLAKES'], ['MAGGI', 'BREAD'], ['MAGGI', 'BISCUIT'], ['MAGGI', 'MILK'], ['MAGGI', 'COCK'], ['SUGAR', 'COFFEE'], ['SUGAR', 'TEA'], ['SUGAR', 'BOURNVITA'], ['SUGAR', 'CORNFLAKES'], ['SUGAR', 'BREAD'], ['SUGAR', 'BISCUIT'], ['SUGAR', 'MILK'], ['SUGAR', 'COCK'], ['COFFEE', 'TEA'], ['COFFEE', 'BOURNVITA'], ['COFFEE', 'CORNFLAKES'], ['COFFEE', 'BREAD'], ['COFFEE', 'BISCUIT'], ['COFFEE', 'MILK'], ['COFFEE', 'COCK'], ['TEA', 'BOURNVITA'], ['TEA', 'CORNFLAKES'], ['TEA', 'BREAD'], ['TEA', 'BISCUIT'], ['TEA', 'MILK'], ['TEA', 'COCK'], ['BOURNVITA', 'CORNFLAKES'], ['BOURNVITA', 'BREAD'], ['BOURNVITA', 'BISCUIT'], ['BOURNVITA', 'MILK'], ['BOURNVITA', 'COCK'], ['CORNFLAKES', 'BREAD'], ['CORNFLAKES', 'BISCUIT'], ['CORNFLAKES', 'MILK'], ['CORNFLAKES', 'COCK'], ['BREAD', 'BISCUIT'], ['BREAD', 'MILK'], ['BREAD', 'COCK'], ['BISCUIT', 'MILK'], ['BISCUIT', 'COCK'], ['MILK', 'COCK']] [2, 0, 0, 1, 0, 0, 2, 0, 1, 0, 0, 0, 4, 0, 1, 3, 2, 1, 0, 4, 0, 2, 1, 4, 1, 0, 0, 1, 1, 4, 3, 2, 1, 3, 2, 2, 4, 2, 1, 0, 0, 3, 0, 0, 0, 1, 3, 2, 2, 4, 4, 1, 2, 2, 0] \n",
            "\n",
            "Table itemsets2: \n",
            "\n",
            "[['JAM', 'MAGGI'], ['JAM', 'BREAD'], ['MAGGI', 'TEA'], ['MAGGI', 'BREAD'], ['MAGGI', 'BISCUIT'], ['SUGAR', 'COFFEE'], ['SUGAR', 'BOURNVITA'], ['SUGAR', 'BREAD'], ['COFFEE', 'CORNFLAKES'], ['COFFEE', 'BREAD'], ['COFFEE', 'BISCUIT'], ['COFFEE', 'COCK'], ['TEA', 'BOURNVITA'], ['TEA', 'CORNFLAKES'], ['TEA', 'BREAD'], ['TEA', 'BISCUIT'], ['BOURNVITA', 'BREAD'], ['CORNFLAKES', 'BISCUIT'], ['CORNFLAKES', 'MILK'], ['CORNFLAKES', 'COCK'], ['BREAD', 'BISCUIT'], ['BREAD', 'MILK'], ['BISCUIT', 'MILK'], ['BISCUIT', 'COCK']] [2, 2, 4, 3, 2, 4, 2, 4, 4, 3, 2, 3, 2, 2, 4, 2, 3, 3, 2, 2, 4, 4, 2, 2] \n",
            "\n",
            "Table itemsets3: \n",
            "\n",
            "[['JAM', 'MAGGI', 'BREAD'], ['MAGGI', 'TEA', 'BREAD'], ['MAGGI', 'TEA', 'BISCUIT'], ['MAGGI', 'BREAD', 'BISCUIT'], ['SUGAR', 'COFFEE', 'BOURNVITA'], ['SUGAR', 'COFFEE', 'BREAD'], ['SUGAR', 'BOURNVITA', 'BREAD'], ['COFFEE', 'CORNFLAKES', 'BREAD'], ['COFFEE', 'CORNFLAKES', 'BISCUIT'], ['COFFEE', 'CORNFLAKES', 'COCK'], ['COFFEE', 'BREAD', 'BISCUIT'], ['COFFEE', 'BREAD', 'COCK'], ['COFFEE', 'BISCUIT', 'COCK'], ['TEA', 'BOURNVITA', 'CORNFLAKES'], ['TEA', 'BOURNVITA', 'BREAD'], ['TEA', 'BOURNVITA', 'BISCUIT'], ['TEA', 'CORNFLAKES', 'BREAD'], ['TEA', 'CORNFLAKES', 'BISCUIT'], ['TEA', 'BREAD', 'BISCUIT'], ['CORNFLAKES', 'BISCUIT', 'MILK'], ['CORNFLAKES', 'BISCUIT', 'COCK'], ['CORNFLAKES', 'MILK', 'COCK'], ['BREAD', 'BISCUIT', 'MILK'], ['BISCUIT', 'MILK', 'COCK']] [2, 2, 2, 1, 1, 2, 1, 0, 2, 2, 0, 1, 2, 0, 2, 0, 0, 0, 1, 1, 2, 0, 2, 0] \n",
            "\n",
            "Table itemsets3: \n",
            "\n",
            "[['JAM', 'MAGGI', 'BREAD'], ['MAGGI', 'TEA', 'BREAD'], ['MAGGI', 'TEA', 'BISCUIT'], ['SUGAR', 'COFFEE', 'BREAD'], ['COFFEE', 'CORNFLAKES', 'BISCUIT'], ['COFFEE', 'CORNFLAKES', 'COCK'], ['COFFEE', 'BISCUIT', 'COCK'], ['TEA', 'BOURNVITA', 'BREAD'], ['CORNFLAKES', 'BISCUIT', 'COCK'], ['BREAD', 'BISCUIT', 'MILK']] [2, 2, 2, 2, 2, 2, 2, 2, 2, 2] \n",
            "\n",
            "Table itemsets4: \n",
            "\n",
            "[['MAGGI', 'TEA', 'BREAD', 'BISCUIT'], ['COFFEE', 'CORNFLAKES', 'BISCUIT', 'COCK']] [1, 2] \n",
            "\n",
            "Table itemsets4: \n",
            "\n",
            "[['COFFEE', 'CORNFLAKES', 'BISCUIT', 'COCK']] [2] \n",
            "\n",
            "Table itemsets5: \n",
            "\n",
            "[] [] \n",
            "\n"
          ]
        }
      ]
    },
    {
      "cell_type": "markdown",
      "source": [
        "##Association rules"
      ],
      "metadata": {
        "id": "cLhU94TGaQ5x"
      },
      "id": "cLhU94TGaQ5x"
    },
    {
      "cell_type": "code",
      "source": [
        "#Getting all possible combinations\n",
        "def set_power(subset):\n",
        "  return list(chain.from_iterable(combinations(subset,r) for r in range(1,len(subset)+1)))\n",
        "\n",
        "#Function for generating a rule\n",
        "def rule_gen(X,X_Y,Y,confidence,supp,lift,numberOftransactions):\n",
        "  rule = \"\"\n",
        "  rule += \"Fr. Itemset: {}\\n\".format(X)\n",
        "  rule += \"    Rule: {} -> {} \\n\".format(list(Y),list(X_Y))\n",
        "  rule += \"    Confidence: {0:2.3f} \\n\".format(confidence)\n",
        "  rule += \"    Support: {0:2.3f} \\n\".format(supp / numberOftransactions)\n",
        "  rule += \"    Lift: {0:2.3f} \\n\".format(lift)\n",
        "  return rule\n",
        "\n",
        "rules = \"\"\n",
        "for i in range(1, len(fr_itemsets)):\n",
        "  for j in range(len(fr_itemsets[i])):\n",
        "    subset = list(set_power(set(fr_itemsets[i][j])))\n",
        "    subset.pop()\n",
        "    for k in subset:\n",
        "      Y = set(k)\n",
        "      X = set(fr_itemsets[i][j])\n",
        "      X_Y = set(X-Y)\n",
        "      x_supp = occured_number(X,transactions)\n",
        "      x_y_supp =  occured_number(X_Y,transactions)\n",
        "      confidence = x_supp / occured_number(Y,transactions)\n",
        "      lift = confidence / (x_y_supp / numberOftransactions)\n",
        "      if confidence >= min_conf and x_supp >= min_supp:\n",
        "        rules += rule_gen(X,X_Y,Y,confidence,x_supp,lift,numberOftransactions)\n",
        "\n",
        "print(rules)"
      ],
      "metadata": {
        "colab": {
          "base_uri": "https://localhost:8080/"
        },
        "id": "NDWLl_mGaVgT",
        "outputId": "1558efd4-f915-4972-b200-4eb139b7ec98"
      },
      "id": "NDWLl_mGaVgT",
      "execution_count": 52,
      "outputs": [
        {
          "output_type": "stream",
          "name": "stdout",
          "text": [
            "Fr. Itemset: {'MAGGI', 'JAM'}\n",
            "    Rule: ['JAM'] -> ['MAGGI'] \n",
            "    Confidence: 1.000 \n",
            "    Support: 0.100 \n",
            "    Lift: 4.000 \n",
            "Fr. Itemset: {'JAM', 'BREAD'}\n",
            "    Rule: ['JAM'] -> ['BREAD'] \n",
            "    Confidence: 1.000 \n",
            "    Support: 0.100 \n",
            "    Lift: 1.538 \n",
            "Fr. Itemset: {'TEA', 'MAGGI'}\n",
            "    Rule: ['MAGGI'] -> ['TEA'] \n",
            "    Confidence: 0.800 \n",
            "    Support: 0.200 \n",
            "    Lift: 2.286 \n",
            "Fr. Itemset: {'MAGGI', 'BREAD'}\n",
            "    Rule: ['MAGGI'] -> ['BREAD'] \n",
            "    Confidence: 0.600 \n",
            "    Support: 0.150 \n",
            "    Lift: 0.923 \n",
            "Fr. Itemset: {'COFFEE', 'SUGAR'}\n",
            "    Rule: ['SUGAR'] -> ['COFFEE'] \n",
            "    Confidence: 0.667 \n",
            "    Support: 0.200 \n",
            "    Lift: 1.667 \n",
            "Fr. Itemset: {'SUGAR', 'BREAD'}\n",
            "    Rule: ['SUGAR'] -> ['BREAD'] \n",
            "    Confidence: 0.667 \n",
            "    Support: 0.200 \n",
            "    Lift: 1.026 \n",
            "Fr. Itemset: {'CORNFLAKES', 'COFFEE'}\n",
            "    Rule: ['CORNFLAKES'] -> ['COFFEE'] \n",
            "    Confidence: 0.667 \n",
            "    Support: 0.200 \n",
            "    Lift: 1.667 \n",
            "Fr. Itemset: {'COCK', 'COFFEE'}\n",
            "    Rule: ['COCK'] -> ['COFFEE'] \n",
            "    Confidence: 1.000 \n",
            "    Support: 0.150 \n",
            "    Lift: 2.500 \n",
            "Fr. Itemset: {'BOURNVITA', 'BREAD'}\n",
            "    Rule: ['BOURNVITA'] -> ['BREAD'] \n",
            "    Confidence: 0.750 \n",
            "    Support: 0.150 \n",
            "    Lift: 1.154 \n",
            "Fr. Itemset: {'CORNFLAKES', 'COCK'}\n",
            "    Rule: ['COCK'] -> ['CORNFLAKES'] \n",
            "    Confidence: 0.667 \n",
            "    Support: 0.100 \n",
            "    Lift: 2.222 \n",
            "Fr. Itemset: {'MILK', 'BREAD'}\n",
            "    Rule: ['MILK'] -> ['BREAD'] \n",
            "    Confidence: 0.800 \n",
            "    Support: 0.200 \n",
            "    Lift: 1.231 \n",
            "Fr. Itemset: {'BISCUIT', 'COCK'}\n",
            "    Rule: ['COCK'] -> ['BISCUIT'] \n",
            "    Confidence: 0.667 \n",
            "    Support: 0.100 \n",
            "    Lift: 1.905 \n",
            "Fr. Itemset: {'MAGGI', 'JAM', 'BREAD'}\n",
            "    Rule: ['JAM'] -> ['MAGGI', 'BREAD'] \n",
            "    Confidence: 1.000 \n",
            "    Support: 0.100 \n",
            "    Lift: 6.667 \n",
            "Fr. Itemset: {'MAGGI', 'JAM', 'BREAD'}\n",
            "    Rule: ['MAGGI', 'JAM'] -> ['BREAD'] \n",
            "    Confidence: 1.000 \n",
            "    Support: 0.100 \n",
            "    Lift: 1.538 \n",
            "Fr. Itemset: {'MAGGI', 'JAM', 'BREAD'}\n",
            "    Rule: ['MAGGI', 'BREAD'] -> ['JAM'] \n",
            "    Confidence: 0.667 \n",
            "    Support: 0.100 \n",
            "    Lift: 6.667 \n",
            "Fr. Itemset: {'MAGGI', 'JAM', 'BREAD'}\n",
            "    Rule: ['JAM', 'BREAD'] -> ['MAGGI'] \n",
            "    Confidence: 1.000 \n",
            "    Support: 0.100 \n",
            "    Lift: 4.000 \n",
            "Fr. Itemset: {'TEA', 'MAGGI', 'BREAD'}\n",
            "    Rule: ['MAGGI', 'BREAD'] -> ['TEA'] \n",
            "    Confidence: 0.667 \n",
            "    Support: 0.100 \n",
            "    Lift: 1.905 \n",
            "Fr. Itemset: {'TEA', 'MAGGI', 'BISCUIT'}\n",
            "    Rule: ['TEA', 'BISCUIT'] -> ['MAGGI'] \n",
            "    Confidence: 1.000 \n",
            "    Support: 0.100 \n",
            "    Lift: 4.000 \n",
            "Fr. Itemset: {'TEA', 'MAGGI', 'BISCUIT'}\n",
            "    Rule: ['MAGGI', 'BISCUIT'] -> ['TEA'] \n",
            "    Confidence: 1.000 \n",
            "    Support: 0.100 \n",
            "    Lift: 2.857 \n",
            "Fr. Itemset: {'COFFEE', 'SUGAR', 'BREAD'}\n",
            "    Rule: ['COFFEE', 'BREAD'] -> ['SUGAR'] \n",
            "    Confidence: 0.667 \n",
            "    Support: 0.100 \n",
            "    Lift: 2.222 \n",
            "Fr. Itemset: {'CORNFLAKES', 'BISCUIT', 'COFFEE'}\n",
            "    Rule: ['CORNFLAKES', 'BISCUIT'] -> ['COFFEE'] \n",
            "    Confidence: 0.667 \n",
            "    Support: 0.100 \n",
            "    Lift: 1.667 \n",
            "Fr. Itemset: {'CORNFLAKES', 'BISCUIT', 'COFFEE'}\n",
            "    Rule: ['BISCUIT', 'COFFEE'] -> ['CORNFLAKES'] \n",
            "    Confidence: 1.000 \n",
            "    Support: 0.100 \n",
            "    Lift: 3.333 \n",
            "Fr. Itemset: {'CORNFLAKES', 'COCK', 'COFFEE'}\n",
            "    Rule: ['COCK'] -> ['CORNFLAKES', 'COFFEE'] \n",
            "    Confidence: 0.667 \n",
            "    Support: 0.100 \n",
            "    Lift: 3.333 \n",
            "Fr. Itemset: {'CORNFLAKES', 'COCK', 'COFFEE'}\n",
            "    Rule: ['CORNFLAKES', 'COCK'] -> ['COFFEE'] \n",
            "    Confidence: 1.000 \n",
            "    Support: 0.100 \n",
            "    Lift: 2.500 \n",
            "Fr. Itemset: {'CORNFLAKES', 'COCK', 'COFFEE'}\n",
            "    Rule: ['COCK', 'COFFEE'] -> ['CORNFLAKES'] \n",
            "    Confidence: 0.667 \n",
            "    Support: 0.100 \n",
            "    Lift: 2.222 \n",
            "Fr. Itemset: {'BISCUIT', 'COFFEE', 'COCK'}\n",
            "    Rule: ['COCK'] -> ['BISCUIT', 'COFFEE'] \n",
            "    Confidence: 0.667 \n",
            "    Support: 0.100 \n",
            "    Lift: 6.667 \n",
            "Fr. Itemset: {'BISCUIT', 'COFFEE', 'COCK'}\n",
            "    Rule: ['BISCUIT', 'COFFEE'] -> ['COCK'] \n",
            "    Confidence: 1.000 \n",
            "    Support: 0.100 \n",
            "    Lift: 6.667 \n",
            "Fr. Itemset: {'BISCUIT', 'COFFEE', 'COCK'}\n",
            "    Rule: ['BISCUIT', 'COCK'] -> ['COFFEE'] \n",
            "    Confidence: 1.000 \n",
            "    Support: 0.100 \n",
            "    Lift: 2.500 \n",
            "Fr. Itemset: {'BISCUIT', 'COFFEE', 'COCK'}\n",
            "    Rule: ['COCK', 'COFFEE'] -> ['BISCUIT'] \n",
            "    Confidence: 0.667 \n",
            "    Support: 0.100 \n",
            "    Lift: 1.905 \n",
            "Fr. Itemset: {'BOURNVITA', 'TEA', 'BREAD'}\n",
            "    Rule: ['TEA', 'BOURNVITA'] -> ['BREAD'] \n",
            "    Confidence: 1.000 \n",
            "    Support: 0.100 \n",
            "    Lift: 1.538 \n",
            "Fr. Itemset: {'BOURNVITA', 'TEA', 'BREAD'}\n",
            "    Rule: ['BOURNVITA', 'BREAD'] -> ['TEA'] \n",
            "    Confidence: 0.667 \n",
            "    Support: 0.100 \n",
            "    Lift: 1.905 \n",
            "Fr. Itemset: {'CORNFLAKES', 'BISCUIT', 'COCK'}\n",
            "    Rule: ['COCK'] -> ['CORNFLAKES', 'BISCUIT'] \n",
            "    Confidence: 0.667 \n",
            "    Support: 0.100 \n",
            "    Lift: 4.444 \n",
            "Fr. Itemset: {'CORNFLAKES', 'BISCUIT', 'COCK'}\n",
            "    Rule: ['CORNFLAKES', 'BISCUIT'] -> ['COCK'] \n",
            "    Confidence: 0.667 \n",
            "    Support: 0.100 \n",
            "    Lift: 4.444 \n",
            "Fr. Itemset: {'CORNFLAKES', 'BISCUIT', 'COCK'}\n",
            "    Rule: ['CORNFLAKES', 'COCK'] -> ['BISCUIT'] \n",
            "    Confidence: 1.000 \n",
            "    Support: 0.100 \n",
            "    Lift: 2.857 \n",
            "Fr. Itemset: {'CORNFLAKES', 'BISCUIT', 'COCK'}\n",
            "    Rule: ['BISCUIT', 'COCK'] -> ['CORNFLAKES'] \n",
            "    Confidence: 1.000 \n",
            "    Support: 0.100 \n",
            "    Lift: 3.333 \n",
            "Fr. Itemset: {'BISCUIT', 'MILK', 'BREAD'}\n",
            "    Rule: ['BISCUIT', 'MILK'] -> ['BREAD'] \n",
            "    Confidence: 1.000 \n",
            "    Support: 0.100 \n",
            "    Lift: 1.538 \n",
            "Fr. Itemset: {'CORNFLAKES', 'BISCUIT', 'COFFEE', 'COCK'}\n",
            "    Rule: ['COCK'] -> ['CORNFLAKES', 'BISCUIT', 'COFFEE'] \n",
            "    Confidence: 0.667 \n",
            "    Support: 0.100 \n",
            "    Lift: 6.667 \n",
            "Fr. Itemset: {'CORNFLAKES', 'BISCUIT', 'COFFEE', 'COCK'}\n",
            "    Rule: ['CORNFLAKES', 'BISCUIT'] -> ['COCK', 'COFFEE'] \n",
            "    Confidence: 0.667 \n",
            "    Support: 0.100 \n",
            "    Lift: 4.444 \n",
            "Fr. Itemset: {'CORNFLAKES', 'BISCUIT', 'COFFEE', 'COCK'}\n",
            "    Rule: ['CORNFLAKES', 'COCK'] -> ['BISCUIT', 'COFFEE'] \n",
            "    Confidence: 1.000 \n",
            "    Support: 0.100 \n",
            "    Lift: 10.000 \n",
            "Fr. Itemset: {'CORNFLAKES', 'BISCUIT', 'COFFEE', 'COCK'}\n",
            "    Rule: ['BISCUIT', 'COFFEE'] -> ['CORNFLAKES', 'COCK'] \n",
            "    Confidence: 1.000 \n",
            "    Support: 0.100 \n",
            "    Lift: 10.000 \n",
            "Fr. Itemset: {'CORNFLAKES', 'BISCUIT', 'COFFEE', 'COCK'}\n",
            "    Rule: ['BISCUIT', 'COCK'] -> ['CORNFLAKES', 'COFFEE'] \n",
            "    Confidence: 1.000 \n",
            "    Support: 0.100 \n",
            "    Lift: 5.000 \n",
            "Fr. Itemset: {'CORNFLAKES', 'BISCUIT', 'COFFEE', 'COCK'}\n",
            "    Rule: ['COCK', 'COFFEE'] -> ['CORNFLAKES', 'BISCUIT'] \n",
            "    Confidence: 0.667 \n",
            "    Support: 0.100 \n",
            "    Lift: 4.444 \n",
            "Fr. Itemset: {'CORNFLAKES', 'BISCUIT', 'COFFEE', 'COCK'}\n",
            "    Rule: ['CORNFLAKES', 'BISCUIT', 'COFFEE'] -> ['COCK'] \n",
            "    Confidence: 1.000 \n",
            "    Support: 0.100 \n",
            "    Lift: 6.667 \n",
            "Fr. Itemset: {'CORNFLAKES', 'BISCUIT', 'COFFEE', 'COCK'}\n",
            "    Rule: ['CORNFLAKES', 'BISCUIT', 'COCK'] -> ['COFFEE'] \n",
            "    Confidence: 1.000 \n",
            "    Support: 0.100 \n",
            "    Lift: 2.500 \n",
            "Fr. Itemset: {'CORNFLAKES', 'BISCUIT', 'COFFEE', 'COCK'}\n",
            "    Rule: ['CORNFLAKES', 'COCK', 'COFFEE'] -> ['BISCUIT'] \n",
            "    Confidence: 1.000 \n",
            "    Support: 0.100 \n",
            "    Lift: 2.857 \n",
            "Fr. Itemset: {'CORNFLAKES', 'BISCUIT', 'COFFEE', 'COCK'}\n",
            "    Rule: ['BISCUIT', 'COFFEE', 'COCK'] -> ['CORNFLAKES'] \n",
            "    Confidence: 1.000 \n",
            "    Support: 0.100 \n",
            "    Lift: 3.333 \n",
            "\n"
          ]
        }
      ]
    }
  ],
  "metadata": {
    "kernelspec": {
      "display_name": "Python 3",
      "language": "python",
      "name": "python3"
    },
    "language_info": {
      "codemirror_mode": {
        "name": "ipython",
        "version": 3
      },
      "file_extension": ".py",
      "mimetype": "text/x-python",
      "name": "python",
      "nbconvert_exporter": "python",
      "pygments_lexer": "ipython3",
      "version": "3.8.5"
    },
    "colab": {
      "name": "Coursework2.ipynb",
      "provenance": [],
      "collapsed_sections": []
    }
  },
  "nbformat": 4,
  "nbformat_minor": 5
}